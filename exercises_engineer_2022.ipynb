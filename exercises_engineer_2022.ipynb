{
 "cells": [
  {
   "cell_type": "markdown",
   "metadata": {},
   "source": [
    "# Exercise 1: expression management in python\n",
    "\n",
    "Obtain the AST (abstract syntax tree) for the following python expression:\n",
    "```python\n",
    "a = (-1 + 2) * 3 ** 4\n",
    "```\n",
    "\n",
    "using python's standard library `ast`.\n",
    "\n",
    "then using the AST:"
   ]
  },
  {
   "cell_type": "markdown",
   "metadata": {},
   "source": [
    "### 2a. Print the abstract syntax tree in a way where the operation containment is evident, and it is user-readable."
   ]
  },
  {
   "cell_type": "markdown",
   "metadata": {},
   "source": [
    "### 2b. Use the AST processing to count the number of unary and binary operators in the expression"
   ]
  },
  {
   "cell_type": "markdown",
   "metadata": {},
   "source": [
    "### 2c. Implement code transformations\n",
    "\n",
    "Implement a NodeTransformer using `ast.NodeTransformer` to perform the distributive law between products and sums. E.g. `(2 + 3 + 5) * 4` should be transformed to the expression `(4 * 2 + 4 * 3 + 4 * 5)`"
   ]
  },
  {
   "cell_type": "markdown",
   "metadata": {},
   "source": [
    "# Excercise 2: SQL Basics and Query Optimization"
   ]
  },
  {
   "cell_type": "code",
   "execution_count": 2,
   "metadata": {},
   "outputs": [
    {
     "data": {
      "text/plain": [
       "<sqlite3.Cursor at 0x7fa120693ea0>"
      ]
     },
     "execution_count": 2,
     "metadata": {},
     "output_type": "execute_result"
    }
   ],
   "source": [
    "import sqlite3\n",
    "\n",
    "db = sqlite3.connect(':memory:')  # Using an in-memory database\n",
    "cur = db.cursor()\n",
    "\n",
    "cur.execute('''CREATE TABLE IF NOT EXISTS Customer (\n",
    "                id integer PRIMARY KEY,\n",
    "                firstname varchar(255),\n",
    "                lastname varchar(255) )''')\n",
    "cur.execute('''CREATE TABLE IF NOT EXISTS Item (\n",
    "                id integer PRIMARY KEY,\n",
    "                title varchar(255),\n",
    "                price decimal )''')\n",
    "cur.execute('''CREATE TABLE IF NOT EXISTS BoughtItem (\n",
    "                ordernumber integer PRIMARY KEY,\n",
    "                customerid integer,\n",
    "                itemid integer,\n",
    "                price decimal,\n",
    "                CONSTRAINT customerid\n",
    "                    FOREIGN KEY (customerid) REFERENCES Customer(id),\n",
    "                CONSTRAINT itemid\n",
    "                    FOREIGN KEY (itemid) REFERENCES Item(id) )''')\n",
    "cur.execute('''INSERT INTO Customer(firstname, lastname)\n",
    "               VALUES ('Bob', 'Adams'),\n",
    "                      ('Amy', 'Smith'),\n",
    "                      ('Rob', 'Bennet');''')\n",
    "cur.execute('''INSERT INTO Item(title, price)\n",
    "               VALUES ('USB', 10.2),\n",
    "                      ('Mouse', 12.23),\n",
    "                      ('Monitor', 199.99);''')\n",
    "cur.execute('''INSERT INTO BoughtItem(customerid, itemid, price)\n",
    "               VALUES (1, 1, 10.2),\n",
    "                      (1, 2, 12.23),\n",
    "                      (1, 3, 199.99),\n",
    "                      (2, 3, 180.00),\n",
    "                      (3, 2, 11.23);''') # Discounted price \n"
   ]
  },
  {
   "cell_type": "markdown",
   "metadata": {},
   "source": [
    "## 2a. Compute the average prize of bought items, per item, and also per customer"
   ]
  },
  {
   "cell_type": "code",
   "execution_count": null,
   "metadata": {},
   "outputs": [],
   "source": []
  },
  {
   "cell_type": "markdown",
   "metadata": {},
   "source": [
    "## 2b. Use the primitive `EXPLAIN QUERY PLAN` to debug the query designed in 2a and explain and propose optimization strategies"
   ]
  },
  {
   "cell_type": "code",
   "execution_count": null,
   "metadata": {},
   "outputs": [],
   "source": []
  },
  {
   "cell_type": "markdown",
   "metadata": {},
   "source": [
    "# Exercise 3: Data science \n",
    "\n",
    "Load the Ames housing dataset using `pandas`. It is located in `datasets/ames_housing.csv`. Using the function `head()` and `info()`, which issues do you identify which need to be noted before to learn a machine learning model.\n",
    "\n",
    "The dataset is described in https://www.kaggle.com/datasets/prevek18/ames-housing-dataset"
   ]
  },
  {
   "cell_type": "code",
   "execution_count": null,
   "metadata": {},
   "outputs": [],
   "source": []
  },
  {
   "cell_type": "markdown",
   "metadata": {},
   "source": [
    "## 3a. Characterize the main aspect of each one of the columns"
   ]
  },
  {
   "cell_type": "code",
   "execution_count": null,
   "metadata": {},
   "outputs": [],
   "source": []
  },
  {
   "cell_type": "markdown",
   "metadata": {},
   "source": [
    "## 3b. Build a simple linear regression model, using any given python library, relating lot area and lot frontage with the Sale Price. Does it work? How can you improve it? What are the main issues to consider when improving it?"
   ]
  },
  {
   "cell_type": "code",
   "execution_count": null,
   "metadata": {},
   "outputs": [],
   "source": []
  }
 ],
 "metadata": {
  "kernelspec": {
   "display_name": "python3.8",
   "language": "python",
   "name": "python3"
  },
  "language_info": {
   "codemirror_mode": {
    "name": "ipython",
    "version": 3
   },
   "file_extension": ".py",
   "mimetype": "text/x-python",
   "name": "python",
   "nbconvert_exporter": "python",
   "pygments_lexer": "ipython3",
   "version": "3.8.13"
  }
 },
 "nbformat": 4,
 "nbformat_minor": 4
}
