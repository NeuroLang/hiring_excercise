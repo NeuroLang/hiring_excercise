{
 "cells": [
  {
   "cell_type": "markdown",
   "metadata": {},
   "source": [
    "# Exercise 1: Diffusion MRI NeuroImaging Pipeline\n",
    "\n",
    "Download the Princeton dataset from the PRIME primate sharing data exchange project from http://fcon_1000.projects.nitrc.org/indi/PRIME/princeton.html\n",
    "\n",
    "Perform the following tasks using DIPY (www.dipy.org)"
   ]
  },
  {
   "cell_type": "markdown",
   "metadata": {},
   "source": [
    "### 1a. Estimate the Franctional Anisotropy map for each of the subjects"
   ]
  },
  {
   "cell_type": "markdown",
   "metadata": {},
   "source": [
    "### 1b. Perform a full-brain tractography (seeding a tract at each white matter voxel, which can be estimated as FA > 0.3) of the same subject"
   ]
  },
  {
   "cell_type": "markdown",
   "metadata": {},
   "source": [
    "### 1c. Tract classification\n",
    "\n",
    "Make a pandas table for each tract represented as it's minimal bounding box. Specifically each row should have the items `(xl, yl, zl, xL, yL, zL)` representing the 6 coordinates lower and larger coordinates x, y, z of the bounding box.\n",
    "\n",
    "Implement a supervised classifier using Scikit-learn (https://scikit-learn.org/stable/) for the following classes:\n",
    "* Commissural: each endpoint is in a different hemisphere\n",
    "* Projection: both endpoints on the same hemisphere the tract's extension is predominantly on the superior-inferior axis\n",
    "* Association: both endpoints in the same hemisphere and the tract's extension is predominantly on the anterior-posterior axis"
   ]
  },
  {
   "cell_type": "markdown",
   "metadata": {},
   "source": [
    "### 1d. (optional). Develop a pipeline for 1a and 1b using nipype (https://nipype.readthedocs.io/en/latest/). There the FA and tractography can be performed with any of the standard tools in NIPYPE"
   ]
  },
  {
   "cell_type": "code",
   "execution_count": null,
   "metadata": {},
   "outputs": [],
   "source": []
  },
  {
   "cell_type": "markdown",
   "metadata": {},
   "source": [
    "# Exercise 2: expression management in python\n",
    "\n",
    "Obtain the AST (abstract syntax tree) for the following python expression:\n",
    "```python\n",
    "a = (-1 + 2) * 3 ** 4\n",
    "```\n",
    "then using the AST:"
   ]
  },
  {
   "cell_type": "markdown",
   "metadata": {},
   "source": [
    "### 2a. Print the abstract syntax tree in a way where the operation containment is evident"
   ]
  },
  {
   "cell_type": "markdown",
   "metadata": {},
   "source": [
    "### 2b. Use the AST processing to count the number of unary and binary operators in the expression"
   ]
  },
  {
   "cell_type": "markdown",
   "metadata": {},
   "source": [
    "### 2c. Implement code transformations\n",
    "\n",
    "Implement a NodeTransformer using `ast.NodeTransformer` to perform the distributive law between products and sums. E.g. `(2 + 3 + 5) * 4` should be transformed to the expression `(4 * 2 + 4 * 3 + 4 * 5)`"
   ]
  },
  {
   "cell_type": "code",
   "execution_count": null,
   "metadata": {},
   "outputs": [],
   "source": []
  }
 ],
 "metadata": {
  "kernelspec": {
   "display_name": "Python 3.8.2 64-bit ('root3.8-neurosynth': virtualenv)",
   "language": "python",
   "name": "python38264bitroot38neurosynthvirtualenv1558484622434a62a737ff7dc80912e2"
  },
  "language_info": {
   "codemirror_mode": {
    "name": "ipython",
    "version": 3
   },
   "file_extension": ".py",
   "mimetype": "text/x-python",
   "name": "python",
   "nbconvert_exporter": "python",
   "pygments_lexer": "ipython3",
   "version": "3.8.2"
  }
 },
 "nbformat": 4,
 "nbformat_minor": 4
}
